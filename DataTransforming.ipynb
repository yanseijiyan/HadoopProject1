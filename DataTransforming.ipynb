{
  "nbformat": 4,
  "nbformat_minor": 0,
  "metadata": {
    "colab": {
      "provenance": []
    },
    "kernelspec": {
      "name": "python3",
      "display_name": "Python 3"
    },
    "language_info": {
      "name": "python"
    }
  },
  "cells": [
    {
      "cell_type": "code",
      "source": [
        "# install Java your Colab environment\n",
        "\n",
        "!apt-get install openjdk-8-jdk-headless -qq > /dev/null"
      ],
      "metadata": {
        "id": "YpKqz6GVp0E8"
      },
      "execution_count": 14,
      "outputs": []
    },
    {
      "cell_type": "code",
      "source": [
        "# Install Pyspark\n",
        "\n",
        "!pip install pyspark\n"
      ],
      "metadata": {
        "colab": {
          "base_uri": "https://localhost:8080/"
        },
        "id": "VdcAizG_p30W",
        "outputId": "ef2646f1-917e-45cb-907f-b5e3d45a50da"
      },
      "execution_count": 15,
      "outputs": [
        {
          "output_type": "stream",
          "name": "stdout",
          "text": [
            "Collecting pyspark\n",
            "  Downloading pyspark-3.5.0.tar.gz (316.9 MB)\n",
            "\u001b[2K     \u001b[90m━━━━━━━━━━━━━━━━━━━━━━━━━━━━━━━━━━━━━━━━\u001b[0m \u001b[32m316.9/316.9 MB\u001b[0m \u001b[31m2.0 MB/s\u001b[0m eta \u001b[36m0:00:00\u001b[0m\n",
            "\u001b[?25h  Preparing metadata (setup.py) ... \u001b[?25l\u001b[?25hdone\n",
            "Requirement already satisfied: py4j==0.10.9.7 in /usr/local/lib/python3.10/dist-packages (from pyspark) (0.10.9.7)\n",
            "Building wheels for collected packages: pyspark\n",
            "  Building wheel for pyspark (setup.py) ... \u001b[?25l\u001b[?25hdone\n",
            "  Created wheel for pyspark: filename=pyspark-3.5.0-py2.py3-none-any.whl size=317425345 sha256=f038959a4157e1ee524699ed80be8640e134bdbe665bd59245f044e9a1ba899e\n",
            "  Stored in directory: /root/.cache/pip/wheels/41/4e/10/c2cf2467f71c678cfc8a6b9ac9241e5e44a01940da8fbb17fc\n",
            "Successfully built pyspark\n",
            "Installing collected packages: pyspark\n",
            "Successfully installed pyspark-3.5.0\n"
          ]
        }
      ]
    },
    {
      "cell_type": "code",
      "execution_count": 32,
      "metadata": {
        "colab": {
          "base_uri": "https://localhost:8080/"
        },
        "id": "xI1UIifaiuRl",
        "outputId": "325decba-cf34-498f-9e2b-db17750a08db"
      },
      "outputs": [
        {
          "output_type": "stream",
          "name": "stdout",
          "text": [
            "bank_prospects.csv  sample_data\t\t     spark-3.5.0-bin-hadoop3.tgz\n",
            "retailstore.csv     spark-3.5.0-bin-hadoop3\n"
          ]
        }
      ],
      "source": [
        "!ls"
      ]
    },
    {
      "cell_type": "markdown",
      "source": [
        "# download spark"
      ],
      "metadata": {
        "id": "l-D00EgdjoJo"
      }
    },
    {
      "cell_type": "code",
      "source": [
        "!wget https://dlcdn.apache.org/spark/spark-3.5.0/spark-3.5.0-bin-hadoop3.tgz"
      ],
      "metadata": {
        "colab": {
          "base_uri": "https://localhost:8080/"
        },
        "id": "deTDLrJ3jhuw",
        "outputId": "63f68890-4eaa-4365-b517-75c9799515a8"
      },
      "execution_count": null,
      "outputs": [
        {
          "output_type": "stream",
          "name": "stdout",
          "text": [
            "--2023-12-06 05:16:26--  https://dlcdn.apache.org/spark/spark-3.5.0/spark-3.5.0-bin-hadoop3.tgz\n",
            "Resolving dlcdn.apache.org (dlcdn.apache.org)... 151.101.2.132, 2a04:4e42::644\n",
            "Connecting to dlcdn.apache.org (dlcdn.apache.org)|151.101.2.132|:443... connected.\n",
            "HTTP request sent, awaiting response... 200 OK\n",
            "Length: 400395283 (382M) [application/x-gzip]\n",
            "Saving to: ‘spark-3.5.0-bin-hadoop3.tgz’\n",
            "\n",
            "spark-3.5.0-bin-had 100%[===================>] 381.85M   220MB/s    in 1.7s    \n",
            "\n",
            "2023-12-06 05:16:29 (220 MB/s) - ‘spark-3.5.0-bin-hadoop3.tgz’ saved [400395283/400395283]\n",
            "\n"
          ]
        }
      ]
    },
    {
      "cell_type": "code",
      "source": [
        "!ls"
      ],
      "metadata": {
        "colab": {
          "base_uri": "https://localhost:8080/"
        },
        "id": "Puw5dYwpj2vo",
        "outputId": "bfea1003-f7fe-4185-d23c-ada2a0b81ef5"
      },
      "execution_count": null,
      "outputs": [
        {
          "output_type": "stream",
          "name": "stdout",
          "text": [
            "retailstore.csv  sample_data  spark-3.5.0-bin-hadoop3.tgz\n"
          ]
        }
      ]
    },
    {
      "cell_type": "code",
      "source": [
        "# Extract spark-3.5.0-bin-hadoop3.tgz\n",
        "\n",
        "!tar -xvf spark-3.5.0-bin-hadoop3.tgz"
      ],
      "metadata": {
        "id": "AazkSywQjISy"
      },
      "execution_count": null,
      "outputs": []
    },
    {
      "cell_type": "code",
      "source": [
        "# install findspark\n",
        "\n",
        "!pip install -q findspark"
      ],
      "metadata": {
        "id": "BWNlstU_qbcd"
      },
      "execution_count": 18,
      "outputs": []
    },
    {
      "cell_type": "code",
      "source": [
        "!ls"
      ],
      "metadata": {
        "colab": {
          "base_uri": "https://localhost:8080/"
        },
        "id": "JTbLftVgj-Ex",
        "outputId": "ce821fc7-ba6c-4647-f7a9-fcf1b55f086f"
      },
      "execution_count": null,
      "outputs": [
        {
          "output_type": "stream",
          "name": "stdout",
          "text": [
            "retailstore.csv  sample_data  spark-3.5.0-bin-hadoop3  spark-3.5.0-bin-hadoop3.tgz\n"
          ]
        }
      ]
    },
    {
      "cell_type": "code",
      "source": [
        "!ls spark-3.5.0-bin-hadoop3/"
      ],
      "metadata": {
        "colab": {
          "base_uri": "https://localhost:8080/"
        },
        "id": "aGK-Ow25j_TF",
        "outputId": "ece99aa7-b770-446e-970c-32d508064d87"
      },
      "execution_count": null,
      "outputs": [
        {
          "output_type": "stream",
          "name": "stdout",
          "text": [
            "bin   data\tjars\t    LICENSE   NOTICE  R\t\t RELEASE  yarn\n",
            "conf  examples\tkubernetes  licenses  python  README.md  sbin\n"
          ]
        }
      ]
    },
    {
      "cell_type": "code",
      "source": [
        "import os\n"
      ],
      "metadata": {
        "id": "V4Awtd8RkD3Z"
      },
      "execution_count": 39,
      "outputs": []
    },
    {
      "cell_type": "code",
      "source": [
        "# Environment configuration:\n",
        "\n",
        "os.environ[\"JAVA_HOME\"] = \"/usr/lib/jvm/java-8-openjdk-amd64\"\n",
        "os.environ[\"SPARK_HOME\"] = \"/content/spark-3.5.0-bin-hadoop3\""
      ],
      "metadata": {
        "id": "s8vmVPDekOap"
      },
      "execution_count": 24,
      "outputs": []
    },
    {
      "cell_type": "code",
      "source": [
        "# Configuring the Spark Context:\n",
        "\n",
        "import findspark\n",
        "findspark.init()\n",
        "from pyspark.sql import SparkSession\n",
        "spark = SparkSession.builder.master(\"local[*]\").getOrCreate()"
      ],
      "metadata": {
        "id": "hqL-LubEqQZY"
      },
      "execution_count": 25,
      "outputs": []
    },
    {
      "cell_type": "code",
      "source": [
        "# Testing spark\n",
        "\n",
        "spark.createDataFrame([{\"Google\": \"Colab\",\"Spark\" : \"Scala\"}, {\"Google\": \"Dataproc\",\"Spark\" : \"Python\"}]).show()"
      ],
      "metadata": {
        "colab": {
          "base_uri": "https://localhost:8080/"
        },
        "id": "Ualdrrj2q8dN",
        "outputId": "592d993e-0868-4d45-f39d-4e3c6b560afc"
      },
      "execution_count": 28,
      "outputs": [
        {
          "output_type": "stream",
          "name": "stdout",
          "text": [
            "+--------+------+\n",
            "|  Google| Spark|\n",
            "+--------+------+\n",
            "|   Colab| Scala|\n",
            "|Dataproc|Python|\n",
            "+--------+------+\n",
            "\n"
          ]
        }
      ]
    },
    {
      "cell_type": "code",
      "source": [
        "# Download dataset to enviroment\n",
        "\n",
        "!wget https://raw.githubusercontent.com/yanseijiyan/HadoopProject1/main/bank_prospects.csv"
      ],
      "metadata": {
        "colab": {
          "base_uri": "https://localhost:8080/"
        },
        "id": "DQY596ORr45I",
        "outputId": "7066e281-c277-4fa7-ce54-9f80906fa171"
      },
      "execution_count": 30,
      "outputs": [
        {
          "output_type": "stream",
          "name": "stdout",
          "text": [
            "--2023-12-06 06:01:27--  https://raw.githubusercontent.com/yanseijiyan/HadoopProject1/main/bank_prospects.csv\n",
            "Resolving raw.githubusercontent.com (raw.githubusercontent.com)... 185.199.109.133, 185.199.111.133, 185.199.108.133, ...\n",
            "Connecting to raw.githubusercontent.com (raw.githubusercontent.com)|185.199.109.133|:443... connected.\n",
            "HTTP request sent, awaiting response... 200 OK\n",
            "Length: 306 [text/plain]\n",
            "Saving to: ‘bank_prospects.csv’\n",
            "\n",
            "\rbank_prospects.csv    0%[                    ]       0  --.-KB/s               \rbank_prospects.csv  100%[===================>]     306  --.-KB/s    in 0s      \n",
            "\n",
            "2023-12-06 06:01:27 (14.6 MB/s) - ‘bank_prospects.csv’ saved [306/306]\n",
            "\n"
          ]
        }
      ]
    },
    {
      "cell_type": "code",
      "source": [
        "# See dataset\n",
        "\n",
        "!cat bank_prospects.csv"
      ],
      "metadata": {
        "colab": {
          "base_uri": "https://localhost:8080/"
        },
        "id": "t4heK5gjt4VE",
        "outputId": "836d2ebe-c861-4c2a-ff8c-bbac73ff4c1d"
      },
      "execution_count": 31,
      "outputs": [
        {
          "output_type": "stream",
          "name": "stdout",
          "text": [
            "Age,Salary,Gender,Country,Purchased\r\n",
            "18,20000,Male,Germany,N\r\n",
            "19,22000,Female,France,N\r\n",
            "20,24000,Female,England,N\r\n",
            "21,,Male,England,N\r\n",
            "22,50000,Male,France,Y\r\n",
            "23,35000,Female,England,N\r\n",
            "24,,Male,Germany,N\r\n",
            "25,32000,Female,France,Y\r\n",
            ",35000,Male,Germany,N\r\n",
            "27,37000,Female,France,N\r\n",
            "27,37000,Female,unknown,N"
          ]
        }
      ]
    },
    {
      "cell_type": "code",
      "source": [
        "# Load Dataset\n",
        "\n",
        "df = spark.read.csv(\"bank_prospects.csv\", header=True)"
      ],
      "metadata": {
        "id": "OZCtIWuBuBQK"
      },
      "execution_count": 43,
      "outputs": []
    },
    {
      "cell_type": "code",
      "source": [
        "df.show()"
      ],
      "metadata": {
        "colab": {
          "base_uri": "https://localhost:8080/"
        },
        "id": "TJBQ268Hv1Qj",
        "outputId": "79a35973-392b-4287-9d7c-d4341c5a7bbd"
      },
      "execution_count": 44,
      "outputs": [
        {
          "output_type": "stream",
          "name": "stdout",
          "text": [
            "+----+------+------+-------+---------+\n",
            "| Age|Salary|Gender|Country|Purchased|\n",
            "+----+------+------+-------+---------+\n",
            "|  18| 20000|  Male|Germany|        N|\n",
            "|  19| 22000|Female| France|        N|\n",
            "|  20| 24000|Female|England|        N|\n",
            "|  21|  NULL|  Male|England|        N|\n",
            "|  22| 50000|  Male| France|        Y|\n",
            "|  23| 35000|Female|England|        N|\n",
            "|  24|  NULL|  Male|Germany|        N|\n",
            "|  25| 32000|Female| France|        Y|\n",
            "|NULL| 35000|  Male|Germany|        N|\n",
            "|  27| 37000|Female| France|        N|\n",
            "|  27| 37000|Female|unknown|        N|\n",
            "+----+------+------+-------+---------+\n",
            "\n"
          ]
        }
      ]
    },
    {
      "cell_type": "code",
      "source": [
        "# data Treatment missing Values\n",
        "\n",
        "\n",
        "# drop rows with \"unknown\" in country column\n",
        "df_new = df.filter(df['country'] != \"unknown\")"
      ],
      "metadata": {
        "id": "I9framrWuj75"
      },
      "execution_count": 55,
      "outputs": []
    },
    {
      "cell_type": "code",
      "source": [
        "df_new.show()"
      ],
      "metadata": {
        "colab": {
          "base_uri": "https://localhost:8080/"
        },
        "id": "UYCSphI4xysy",
        "outputId": "6abc8d43-64a0-41c4-f6f9-d0c317c7dc41"
      },
      "execution_count": 57,
      "outputs": [
        {
          "output_type": "stream",
          "name": "stdout",
          "text": [
            "+----+------+------+-------+---------+\n",
            "| Age|Salary|Gender|Country|Purchased|\n",
            "+----+------+------+-------+---------+\n",
            "|  18| 20000|  Male|Germany|        N|\n",
            "|  19| 22000|Female| France|        N|\n",
            "|  20| 24000|Female|England|        N|\n",
            "|  21|  NULL|  Male|England|        N|\n",
            "|  22| 50000|  Male| France|        Y|\n",
            "|  23| 35000|Female|England|        N|\n",
            "|  24|  NULL|  Male|Germany|        N|\n",
            "|  25| 32000|Female| France|        Y|\n",
            "|NULL| 35000|  Male|Germany|        N|\n",
            "|  27| 37000|Female| France|        N|\n",
            "+----+------+------+-------+---------+\n",
            "\n"
          ]
        }
      ]
    },
    {
      "cell_type": "code",
      "source": [
        "df_new.printSchema()"
      ],
      "metadata": {
        "colab": {
          "base_uri": "https://localhost:8080/"
        },
        "id": "D6P-jU6AutDO",
        "outputId": "f3a8ff48-1635-4250-eb9d-b65648f7ed47"
      },
      "execution_count": 65,
      "outputs": [
        {
          "output_type": "stream",
          "name": "stdout",
          "text": [
            "root\n",
            " |-- Age: string (nullable = true)\n",
            " |-- Salary: string (nullable = true)\n",
            " |-- Gender: string (nullable = true)\n",
            " |-- Country: string (nullable = true)\n",
            " |-- Purchased: string (nullable = true)\n",
            "\n"
          ]
        }
      ]
    },
    {
      "cell_type": "code",
      "source": [
        "from pyspark.sql.types import IntegerType,FloatType"
      ],
      "metadata": {
        "id": "OC1WwgG-vDwg"
      },
      "execution_count": 66,
      "outputs": []
    },
    {
      "cell_type": "code",
      "source": [
        "df_new2 = df_new.withColumn(\"Age\", df_new[\"Age\"].cast(IntegerType())).withColumn(\"Salary\", df_new[\"Salary\"].cast(FloatType()))"
      ],
      "metadata": {
        "id": "JYeDivONwLOc"
      },
      "execution_count": 67,
      "outputs": []
    },
    {
      "cell_type": "code",
      "source": [
        "df_new2.printSchema()"
      ],
      "metadata": {
        "colab": {
          "base_uri": "https://localhost:8080/"
        },
        "id": "zPaT3WqWw-QG",
        "outputId": "40fa21a0-6611-465a-d65f-6254f67c2a93"
      },
      "execution_count": 120,
      "outputs": [
        {
          "output_type": "stream",
          "name": "stdout",
          "text": [
            "root\n",
            " |-- Age: integer (nullable = true)\n",
            " |-- Salary: float (nullable = true)\n",
            " |-- Gender: string (nullable = true)\n",
            " |-- Country: string (nullable = true)\n",
            " |-- Purchased: string (nullable = true)\n",
            "\n"
          ]
        }
      ]
    },
    {
      "cell_type": "code",
      "source": [
        "df_new2.show()"
      ],
      "metadata": {
        "colab": {
          "base_uri": "https://localhost:8080/"
        },
        "id": "n_IxtUwOxBIW",
        "outputId": "12ecf75d-d67a-4b85-c257-0ec8d214d8b3"
      },
      "execution_count": 69,
      "outputs": [
        {
          "output_type": "stream",
          "name": "stdout",
          "text": [
            "+----+-------+------+-------+---------+\n",
            "| Age| Salary|Gender|Country|Purchased|\n",
            "+----+-------+------+-------+---------+\n",
            "|  18|20000.0|  Male|Germany|        N|\n",
            "|  19|22000.0|Female| France|        N|\n",
            "|  20|24000.0|Female|England|        N|\n",
            "|  21|   NULL|  Male|England|        N|\n",
            "|  22|50000.0|  Male| France|        Y|\n",
            "|  23|35000.0|Female|England|        N|\n",
            "|  24|   NULL|  Male|Germany|        N|\n",
            "|  25|32000.0|Female| France|        Y|\n",
            "|NULL|35000.0|  Male|Germany|        N|\n",
            "|  27|37000.0|Female| France|        N|\n",
            "+----+-------+------+-------+---------+\n",
            "\n"
          ]
        }
      ]
    },
    {
      "cell_type": "code",
      "source": [
        "from pyspark.sql.functions import mean\n",
        "\n",
        "\n",
        "# lets take the mean values to fill NaN numeric values"
      ],
      "metadata": {
        "id": "Y-1gOgoexXAd"
      },
      "execution_count": 117,
      "outputs": []
    },
    {
      "cell_type": "code",
      "source": [
        "mean_age = df_new2.select(mean(df_new2[\"age\"])).collect()[0][0]"
      ],
      "metadata": {
        "id": "1oK0f4uoyPLu"
      },
      "execution_count": 125,
      "outputs": []
    },
    {
      "cell_type": "code",
      "source": [
        "mean_age"
      ],
      "metadata": {
        "colab": {
          "base_uri": "https://localhost:8080/"
        },
        "id": "MlHTNXIOzSIX",
        "outputId": "e387600b-89df-4be7-b1ce-2b364ecced2c"
      },
      "execution_count": 126,
      "outputs": [
        {
          "output_type": "execute_result",
          "data": {
            "text/plain": [
              "22.11111111111111"
            ]
          },
          "metadata": {},
          "execution_count": 126
        }
      ]
    },
    {
      "cell_type": "code",
      "source": [
        "mean_salary = df_new2.select(mean(df_new2[\"salary\"])).collect()[0][0]"
      ],
      "metadata": {
        "id": "lu-fVPXczVcI"
      },
      "execution_count": 127,
      "outputs": []
    },
    {
      "cell_type": "code",
      "source": [
        "mean_salary"
      ],
      "metadata": {
        "colab": {
          "base_uri": "https://localhost:8080/"
        },
        "id": "Ryp_AwXuzpn3",
        "outputId": "1c1fcdad-e27c-4692-ff48-67e20e31f0f8"
      },
      "execution_count": 128,
      "outputs": [
        {
          "output_type": "execute_result",
          "data": {
            "text/plain": [
              "31875.0"
            ]
          },
          "metadata": {},
          "execution_count": 128
        }
      ]
    },
    {
      "cell_type": "code",
      "source": [
        "# fill na values with mean\n",
        "df_new3 = df_new2.na.fill(mean_salary, subset=[\"salary\"])\n",
        "df_new4 = df_new3.na.fill(mean_age, subset=[\"age\"])\n",
        "\n"
      ],
      "metadata": {
        "id": "TrhQsn0Lz6xr"
      },
      "execution_count": 129,
      "outputs": []
    },
    {
      "cell_type": "code",
      "source": [
        "df_new4.show()"
      ],
      "metadata": {
        "colab": {
          "base_uri": "https://localhost:8080/"
        },
        "id": "x-_2G4HT1dTU",
        "outputId": "0bb50fab-a632-4531-f2cd-c36749f8ab69"
      },
      "execution_count": 130,
      "outputs": [
        {
          "output_type": "stream",
          "name": "stdout",
          "text": [
            "+---+-------+------+-------+---------+\n",
            "|Age| Salary|Gender|Country|Purchased|\n",
            "+---+-------+------+-------+---------+\n",
            "| 18|20000.0|  Male|Germany|        N|\n",
            "| 19|22000.0|Female| France|        N|\n",
            "| 20|24000.0|Female|England|        N|\n",
            "| 21|31875.0|  Male|England|        N|\n",
            "| 22|50000.0|  Male| France|        Y|\n",
            "| 23|35000.0|Female|England|        N|\n",
            "| 24|31875.0|  Male|Germany|        N|\n",
            "| 25|32000.0|Female| France|        Y|\n",
            "| 22|35000.0|  Male|Germany|        N|\n",
            "| 27|37000.0|Female| France|        N|\n",
            "+---+-------+------+-------+---------+\n",
            "\n"
          ]
        }
      ]
    },
    {
      "cell_type": "code",
      "source": [],
      "metadata": {
        "id": "nkzTKrCo1l52"
      },
      "execution_count": null,
      "outputs": []
    }
  ]
}